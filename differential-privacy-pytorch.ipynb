{
 "cells": [
  {
   "attachments": {},
   "cell_type": "markdown",
   "id": "77a8d0fb-564c-4ad3-a1ad-74165b2f8791",
   "metadata": {},
   "source": [
    "# Differentially Private Deep Learning:\n",
    "## How to use the PyTorch Opacus Library"
   ]
  },
  {
   "attachments": {},
   "cell_type": "markdown",
   "id": "a87f3608",
   "metadata": {},
   "source": [
    "This script is my implementation of the following [tutorial](https://blog.openmined.org/differentially-private-deep-learning-using-opacus-in-20-lines-of-code/).\n"
   ]
  },
  {
   "attachments": {},
   "cell_type": "markdown",
   "id": "82620149",
   "metadata": {},
   "source": [
    "Relevant papers include: \n",
    "\n",
    "- https://arxiv.org/abs/2206.07758 - demonstrate that you can reverse engineer a neural network and see the initial images"
   ]
  },
  {
   "attachments": {},
   "cell_type": "markdown",
   "id": "d6f0c0d6",
   "metadata": {},
   "source": [
    " ### Step 1: Import libraries"
   ]
  },
  {
   "cell_type": "code",
   "execution_count": 1,
   "id": "67e5cb43-3117-490b-9ed5-20a622ffab70",
   "metadata": {
    "tags": []
   },
   "outputs": [],
   "source": [
    "import torch\n",
    "from torchvision import datasets, transforms"
   ]
  },
  {
   "cell_type": "code",
   "execution_count": 2,
   "id": "09169518-3037-4846-aec0-4d00d620f5ca",
   "metadata": {
    "tags": []
   },
   "outputs": [],
   "source": [
    "import numpy as np\n",
    "from opacus import PrivacyEngine\n",
    "from tqdm import tqdm # progress bar"
   ]
  },
  {
   "attachments": {},
   "cell_type": "markdown",
   "id": "1066bfbd-6797-4320-90ad-5ba36a45bdb2",
   "metadata": {},
   "source": [
    "### Step 2: Load MNIST Data"
   ]
  },
  {
   "cell_type": "code",
   "execution_count": 8,
   "id": "47b735e2-8170-4db4-b647-49e050bbb130",
   "metadata": {},
   "outputs": [],
   "source": [
    "train_loader = torch.utils.data.DataLoader(datasets.MNIST('../mnist',\n",
    "\t\t\t   train=True, download=True,\n",
    "               transform=transforms.Compose([transforms.ToTensor(),\n",
    "               transforms.Normalize((0.1307,), (0.3081,)),]),),\n",
    "               batch_size=64, shuffle=True, num_workers=1,\n",
    "               pin_memory=True)"
   ]
  },
  {
   "cell_type": "code",
   "execution_count": 4,
   "id": "fc3242ab",
   "metadata": {},
   "outputs": [],
   "source": [
    "test_loader = torch.utils.data.DataLoader(datasets.MNIST('../mnist',\n",
    "\t\t\t  train=False,\n",
    "              transform=transforms.Compose([transforms.ToTensor(),\n",
    "              transforms.Normalize((0.1307,), (0.3081,)),]),),\n",
    "              batch_size=1024, shuffle=True, num_workers=1,\n",
    "              pin_memory=True)"
   ]
  },
  {
   "attachments": {},
   "cell_type": "markdown",
   "id": "05c0e5ef",
   "metadata": {},
   "source": [
    "### Step 3: Creating a PyTorch Neural Network Classification Model and Optimizer"
   ]
  },
  {
   "cell_type": "code",
   "execution_count": 10,
   "id": "1a49a4af",
   "metadata": {},
   "outputs": [],
   "source": [
    "model = torch.nn.Sequential(torch.nn.Conv2d(1, 16, 8, 2, padding=3),\n",
    "\t\t\t\t\t\t\ttorch.nn.ReLU(),\n",
    "                            torch.nn.MaxPool2d(2, 1), \n",
    "                            torch.nn.Conv2d(16, 32, 4, 2), \n",
    "                            torch.nn.ReLU(), \n",
    "                            torch.nn.MaxPool2d(2, 1), \n",
    "                            torch.nn.Flatten(), \n",
    "                            torch.nn.Linear(32 * 4 * 4, 32), \n",
    "                            torch.nn.ReLU(), \n",
    "                            torch.nn.Linear(32, 10))\n",
    "\n",
    "optimizer = torch.optim.SGD(model.parameters(), lr=0.05)"
   ]
  },
  {
   "attachments": {},
   "cell_type": "markdown",
   "id": "0430ec97",
   "metadata": {},
   "source": [
    "### Step 4: Attaching a Differential Privacy Engine to the Optimizer"
   ]
  },
  {
   "cell_type": "code",
   "execution_count": 23,
   "id": "57283605",
   "metadata": {},
   "outputs": [
    {
     "ename": "TypeError",
     "evalue": "PrivacyEngine.__init__() got an unexpected keyword argument 'batch_size'",
     "output_type": "error",
     "traceback": [
      "\u001b[0;31m---------------------------------------------------------------------------\u001b[0m",
      "\u001b[0;31mTypeError\u001b[0m                                 Traceback (most recent call last)",
      "Cell \u001b[0;32mIn[23], line 3\u001b[0m\n\u001b[1;32m      1\u001b[0m \u001b[39m# this does not work - not sure why\u001b[39;00m\n\u001b[0;32m----> 3\u001b[0m privacy_engine \u001b[39m=\u001b[39m PrivacyEngine(\n\u001b[1;32m      4\u001b[0m     model, \n\u001b[1;32m      5\u001b[0m     batch_size\u001b[39m=\u001b[39;49m\u001b[39m64\u001b[39;49m, \n\u001b[1;32m      6\u001b[0m     sample_size\u001b[39m=\u001b[39;49m\u001b[39m60000\u001b[39;49m, \n\u001b[1;32m      7\u001b[0m     alphas\u001b[39m=\u001b[39;49m\u001b[39mrange\u001b[39;49m(\u001b[39m2\u001b[39;49m,\u001b[39m32\u001b[39;49m), \n\u001b[1;32m      8\u001b[0m     noise_multiplier\u001b[39m=\u001b[39;49m\u001b[39m1.3\u001b[39;49m, \n\u001b[1;32m      9\u001b[0m     max_grad_norm\u001b[39m=\u001b[39;49m\u001b[39m1.0\u001b[39;49m,)\n\u001b[1;32m     11\u001b[0m privacy_engine\u001b[39m.\u001b[39mattach(optimizer)\n",
      "\u001b[0;31mTypeError\u001b[0m: PrivacyEngine.__init__() got an unexpected keyword argument 'batch_size'"
     ]
    }
   ],
   "source": [
    "# this does not work - not sure why\n",
    "\n",
    "privacy_engine = PrivacyEngine(\n",
    "    model, \n",
    "    batch_size=64, \n",
    "    sample_size=60000, \n",
    "    alphas=range(2,32), \n",
    "    noise_multiplier=1.3, \n",
    "    max_grad_norm=1.0,)\n",
    "\n",
    "privacy_engine.attach(optimizer)"
   ]
  },
  {
   "cell_type": "code",
   "execution_count": 22,
   "id": "4bdc48cd",
   "metadata": {},
   "outputs": [
    {
     "name": "stderr",
     "output_type": "stream",
     "text": [
      "/home/caroline/.pyenv/versions/3.11.3/lib/python3.11/site-packages/opacus/privacy_engine.py:142: UserWarning: Secure RNG turned off. This is perfectly fine for experimentation as it allows for much faster training performance, but remember to turn it on and retrain one last time before production with ``secure_mode`` turned on.\n",
      "  warnings.warn(\n"
     ]
    }
   ],
   "source": [
    "# modified version - this works but unclear that it is the correct way forward\n",
    "\n",
    "privacy_engine = PrivacyEngine()\n",
    "\n",
    "model, optimizer, train_loader = privacy_engine.make_private(\n",
    "    module=model, \n",
    "    optimizer=optimizer, \n",
    "    data_loader=train_loader, \n",
    "    noise_multiplier=1.0, \n",
    "    max_grad_norm=1.0,)"
   ]
  },
  {
   "cell_type": "code",
   "execution_count": null,
   "id": "2fc24300",
   "metadata": {},
   "outputs": [],
   "source": [
    "def train(model, train_loader, optimizer, epoch, device, delta):\n",
    "    model.train()\n",
    "    criterion = torch.nn.CrossEntropyLoss()\n",
    "    losses = []\n",
    "    for _batch_idx, (data, target) in enumerate(tqdm(train_loader)):\n",
    "        data, target = data.to(device), target.to(device)\n",
    "        optimizer.zero_grad()\n",
    "        output = model(data)\n",
    "        loss = criterion(output, target)\n",
    "        loss.backward()\n",
    "        optimizer.step()\n",
    "        losses.append(loss.item())\n",
    "    \n",
    "    epsilon, best_alpha = \n",
    "    \toptimizer.privacy_engine.get_privacy_spent(delta)\n",
    "        \n",
    "    print(\n",
    "        f\"Train Epoch: {epoch} \\t\"\n",
    "        f\"Loss: {np.mean(losses):.6f} \"\n",
    "        f\"(ε = {epsilon:.2f}, δ = {delta}) for α = {best_alpha}\")\n",
    "    \n",
    "for epoch in range(1, 11):\n",
    "    train(model, train_loader, optimizer, epoch, device=\"cpu\", delta=1e-5)"
   ]
  },
  {
   "cell_type": "code",
   "execution_count": null,
   "id": "029680b9",
   "metadata": {},
   "outputs": [],
   "source": []
  }
 ],
 "metadata": {
  "kernelspec": {
   "display_name": "Python 3 (ipykernel)",
   "language": "python",
   "name": "python3"
  },
  "language_info": {
   "codemirror_mode": {
    "name": "ipython",
    "version": 3
   },
   "file_extension": ".py",
   "mimetype": "text/x-python",
   "name": "python",
   "nbconvert_exporter": "python",
   "pygments_lexer": "ipython3",
   "version": "3.11.3"
  }
 },
 "nbformat": 4,
 "nbformat_minor": 5
}
