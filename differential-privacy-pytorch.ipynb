{
 "cells": [
  {
   "attachments": {},
   "cell_type": "markdown",
   "id": "77a8d0fb-564c-4ad3-a1ad-74165b2f8791",
   "metadata": {},
   "source": [
    "# Differentially Private Deep Learning: How to use the PyTorch Opacus Library"
   ]
  },
  {
   "attachments": {},
   "cell_type": "markdown",
   "id": "a87f3608",
   "metadata": {},
   "source": [
    "This script is my implementation of the following [tutorial](https://blog.openmined.org/differentially-private-deep-learning-using-opacus-in-20-lines-of-code/).\n"
   ]
  },
  {
   "attachments": {},
   "cell_type": "markdown",
   "id": "82620149",
   "metadata": {},
   "source": [
    "Relevant papers include: \n",
    "\n",
    "- https://arxiv.org/abs/2206.07758 - demonstrate that you can reverse engineer a neural network and see the initial images"
   ]
  },
  {
   "attachments": {},
   "cell_type": "markdown",
   "id": "d6f0c0d6",
   "metadata": {},
   "source": [
    " ### Step 1: Import libraries"
   ]
  },
  {
   "cell_type": "code",
   "execution_count": 1,
   "id": "67e5cb43-3117-490b-9ed5-20a622ffab70",
   "metadata": {
    "tags": []
   },
   "outputs": [],
   "source": [
    "import torch\n",
    "from torchvision import datasets, transforms"
   ]
  },
  {
   "cell_type": "code",
   "execution_count": 2,
   "id": "09169518-3037-4846-aec0-4d00d620f5ca",
   "metadata": {
    "tags": []
   },
   "outputs": [],
   "source": [
    "import numpy as np\n",
    "from opacus import PrivacyEngine\n",
    "from tqdm import tqdm"
   ]
  },
  {
   "attachments": {},
   "cell_type": "markdown",
   "id": "1066bfbd-6797-4320-90ad-5ba36a45bdb2",
   "metadata": {},
   "source": [
    "### Step 2: Load MNIST Data"
   ]
  },
  {
   "cell_type": "code",
   "execution_count": 3,
   "id": "47b735e2-8170-4db4-b647-49e050bbb130",
   "metadata": {},
   "outputs": [],
   "source": [
    "train_loader = torch.utils.data.DataLoader(datasets.MNIST('../mnist',\n",
    "\t\t\t   train=True, download=True,\n",
    "               transform=transforms.Compose([transforms.ToTensor(),\n",
    "               transforms.Normalize((0.1307,), (0.3081,)),]),),\n",
    "               batch_size=64, shuffle=True, num_workers=1,\n",
    "               pin_memory=True)"
   ]
  },
  {
   "cell_type": "code",
   "execution_count": 4,
   "id": "fc3242ab",
   "metadata": {},
   "outputs": [],
   "source": [
    "test_loader = torch.utils.data.DataLoader(datasets.MNIST('../mnist',\n",
    "\t\t\t  train=False,\n",
    "              transform=transforms.Compose([transforms.ToTensor(),\n",
    "              transforms.Normalize((0.1307,), (0.3081,)),]),),\n",
    "              batch_size=1024, shuffle=True, num_workers=1,\n",
    "              pin_memory=True)"
   ]
  },
  {
   "attachments": {},
   "cell_type": "markdown",
   "id": "05c0e5ef",
   "metadata": {},
   "source": [
    "### Step 3: Creating a PyTorch Neural Network Classification Model and Optimizer"
   ]
  },
  {
   "cell_type": "code",
   "execution_count": 9,
   "id": "1a49a4af",
   "metadata": {},
   "outputs": [],
   "source": [
    "model = torch.nn.Sequential(torch.nn.Conv2d(1, 16, 8, 2, padding=3),\n",
    "\t\t\t\t\t\t\ttorch.nn.ReLU(),\n",
    "                            torch.nn.MaxPool2d(2, 1), \n",
    "                            torch.nn.Conv2d(16, 32, 4, 2), \n",
    "                            torch.nn.ReLU(), \n",
    "                            torch.nn.MaxPool2d(2, 1), \n",
    "                            torch.nn.Flatten(), \n",
    "                            torch.nn.Linear(32 * 4 * 4, 32), \n",
    "                            torch.nn.ReLU(), \n",
    "                            torch.nn.Linear(32, 10))\n",
    "\n",
    "optimizer = torch.optim.SGD(model.parameters(), lr=0.05)"
   ]
  },
  {
   "attachments": {},
   "cell_type": "markdown",
   "id": "0430ec97",
   "metadata": {},
   "source": [
    "### Step 4: Attaching a Differential Privacy Engine to the Optimizer"
   ]
  },
  {
   "cell_type": "code",
   "execution_count": 13,
   "id": "57283605",
   "metadata": {},
   "outputs": [
    {
     "ename": "TypeError",
     "evalue": "PrivacyEngine.__init__() got an unexpected keyword argument 'batch_size'",
     "output_type": "error",
     "traceback": [
      "\u001b[0;31m---------------------------------------------------------------------------\u001b[0m",
      "\u001b[0;31mTypeError\u001b[0m                                 Traceback (most recent call last)",
      "Cell \u001b[0;32mIn[13], line 1\u001b[0m\n\u001b[0;32m----> 1\u001b[0m privacy_engine \u001b[38;5;241m=\u001b[39m \u001b[43mPrivacyEngine\u001b[49m\u001b[43m(\u001b[49m\u001b[43mmodel\u001b[49m\u001b[43m,\u001b[49m\u001b[43m \u001b[49m\n\u001b[1;32m      2\u001b[0m \u001b[43m\t\t\t\t\t\t\t   \u001b[49m\u001b[43mbatch_size\u001b[49m\u001b[38;5;241;43m=\u001b[39;49m\u001b[38;5;241;43m64\u001b[39;49m\u001b[43m,\u001b[49m\u001b[43m \u001b[49m\n\u001b[1;32m      3\u001b[0m \u001b[43m                               \u001b[49m\u001b[43msample_size\u001b[49m\u001b[38;5;241;43m=\u001b[39;49m\u001b[38;5;241;43m60000\u001b[39;49m\u001b[43m,\u001b[49m\u001b[43m  \u001b[49m\n\u001b[1;32m      4\u001b[0m \u001b[43m                               \u001b[49m\u001b[43malphas\u001b[49m\u001b[38;5;241;43m=\u001b[39;49m\u001b[38;5;28;43mrange\u001b[39;49m\u001b[43m(\u001b[49m\u001b[38;5;241;43m2\u001b[39;49m\u001b[43m,\u001b[49m\u001b[38;5;241;43m32\u001b[39;49m\u001b[43m)\u001b[49m\u001b[43m,\u001b[49m\u001b[43m \u001b[49m\n\u001b[1;32m      5\u001b[0m \u001b[43m                               \u001b[49m\u001b[43mnoise_multiplier\u001b[49m\u001b[38;5;241;43m=\u001b[39;49m\u001b[38;5;241;43m1.3\u001b[39;49m\u001b[43m,\u001b[49m\u001b[43m \u001b[49m\n\u001b[1;32m      6\u001b[0m \u001b[43m                               \u001b[49m\u001b[43mmax_grad_norm\u001b[49m\u001b[38;5;241;43m=\u001b[39;49m\u001b[38;5;241;43m1.0\u001b[39;49m\u001b[43m,\u001b[49m\u001b[43m)\u001b[49m\n\u001b[1;32m      8\u001b[0m privacy_engine\u001b[38;5;241m.\u001b[39mattach(optimizer)\n",
      "\u001b[0;31mTypeError\u001b[0m: PrivacyEngine.__init__() got an unexpected keyword argument 'batch_size'"
     ]
    }
   ],
   "source": [
    "privacy_engine = PrivacyEngine(model, \n",
    "\t\t\t\t\t\t\t   batch_size=64, \n",
    "                               sample_size=60000,  \n",
    "                               alphas=range(2,32), \n",
    "                               noise_multiplier=1.3, \n",
    "                               max_grad_norm=1.0,)\n",
    "\n",
    "privacy_engine.attach(optimizer)"
   ]
  },
  {
   "cell_type": "code",
   "execution_count": null,
   "id": "029680b9",
   "metadata": {},
   "outputs": [],
   "source": []
  }
 ],
 "metadata": {
  "kernelspec": {
   "display_name": "Python 3 (ipykernel)",
   "language": "python",
   "name": "python3"
  },
  "language_info": {
   "codemirror_mode": {
    "name": "ipython",
    "version": 3
   },
   "file_extension": ".py",
   "mimetype": "text/x-python",
   "name": "python",
   "nbconvert_exporter": "python",
   "pygments_lexer": "ipython3",
   "version": "3.11.3"
  }
 },
 "nbformat": 4,
 "nbformat_minor": 5
}
