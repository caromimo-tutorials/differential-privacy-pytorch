{
 "cells": [
  {
   "cell_type": "markdown",
   "id": "77a8d0fb-564c-4ad3-a1ad-74165b2f8791",
   "metadata": {},
   "source": [
    "## Differentially Private Deep Learning in 20 lines of code: How to use the PyTorch Opacus Library"
   ]
  },
  {
   "cell_type": "markdown",
   "id": "1ad8d28b",
   "metadata": {},
   "source": [
    "https://blog.openmined.org/differentially-private-deep-learning-using-opacus-in-20-lines-of-code/"
   ]
  },
  {
   "cell_type": "code",
   "execution_count": 2,
   "id": "67e5cb43-3117-490b-9ed5-20a622ffab70",
   "metadata": {
    "tags": []
   },
   "outputs": [],
   "source": [
    "import torch\n",
    "from torchvision import datasets, transforms"
   ]
  },
  {
   "cell_type": "code",
   "execution_count": 4,
   "id": "be9eb5ca",
   "metadata": {},
   "outputs": [
    {
     "name": "stdout",
     "output_type": "stream",
     "text": [
      "Collecting opacus\n",
      "  Downloading opacus-1.4.0-py3-none-any.whl (224 kB)\n",
      "\u001b[2K     \u001b[38;2;114;156;31m━━━━━━━━━━━━━━━━━━━━━━━━━━━━━━━━━━━━━━━\u001b[0m \u001b[32m224.8/224.8 kB\u001b[0m \u001b[31m1.5 MB/s\u001b[0m eta \u001b[36m0:00:00\u001b[0m MB/s\u001b[0m eta \u001b[36m0:00:01\u001b[0m\n",
      "\u001b[?25hRequirement already satisfied: numpy>=1.15 in /home/caroline/.pyenv/versions/3.11.3/lib/python3.11/site-packages (from opacus) (1.24.2)\n",
      "Requirement already satisfied: torch>=1.13 in /home/caroline/.pyenv/versions/3.11.3/lib/python3.11/site-packages (from opacus) (2.0.0)\n",
      "Requirement already satisfied: scipy>=1.2 in /home/caroline/.pyenv/versions/3.11.3/lib/python3.11/site-packages (from opacus) (1.10.1)\n",
      "Collecting opt-einsum>=3.3.0 (from opacus)\n",
      "  Downloading opt_einsum-3.3.0-py3-none-any.whl (65 kB)\n",
      "\u001b[2K     \u001b[38;2;114;156;31m━━━━━━━━━━━━━━━━━━━━━━━━━━━━━━━━━━━━━━━━\u001b[0m \u001b[32m65.5/65.5 kB\u001b[0m \u001b[31m3.1 MB/s\u001b[0m eta \u001b[36m0:00:00\u001b[0m\n",
      "\u001b[?25hRequirement already satisfied: filelock in /home/caroline/.pyenv/versions/3.11.3/lib/python3.11/site-packages (from torch>=1.13->opacus) (3.11.0)\n",
      "Requirement already satisfied: typing-extensions in /home/caroline/.pyenv/versions/3.11.3/lib/python3.11/site-packages (from torch>=1.13->opacus) (4.5.0)\n",
      "Requirement already satisfied: sympy in /home/caroline/.pyenv/versions/3.11.3/lib/python3.11/site-packages (from torch>=1.13->opacus) (1.11.1)\n",
      "Requirement already satisfied: networkx in /home/caroline/.pyenv/versions/3.11.3/lib/python3.11/site-packages (from torch>=1.13->opacus) (3.1)\n",
      "Requirement already satisfied: jinja2 in /home/caroline/.pyenv/versions/3.11.3/lib/python3.11/site-packages (from torch>=1.13->opacus) (3.1.2)\n",
      "Requirement already satisfied: nvidia-cuda-nvrtc-cu11==11.7.99 in /home/caroline/.pyenv/versions/3.11.3/lib/python3.11/site-packages (from torch>=1.13->opacus) (11.7.99)\n",
      "Requirement already satisfied: nvidia-cuda-runtime-cu11==11.7.99 in /home/caroline/.pyenv/versions/3.11.3/lib/python3.11/site-packages (from torch>=1.13->opacus) (11.7.99)\n",
      "Requirement already satisfied: nvidia-cuda-cupti-cu11==11.7.101 in /home/caroline/.pyenv/versions/3.11.3/lib/python3.11/site-packages (from torch>=1.13->opacus) (11.7.101)\n",
      "Requirement already satisfied: nvidia-cudnn-cu11==8.5.0.96 in /home/caroline/.pyenv/versions/3.11.3/lib/python3.11/site-packages (from torch>=1.13->opacus) (8.5.0.96)\n",
      "Requirement already satisfied: nvidia-cublas-cu11==11.10.3.66 in /home/caroline/.pyenv/versions/3.11.3/lib/python3.11/site-packages (from torch>=1.13->opacus) (11.10.3.66)\n",
      "Requirement already satisfied: nvidia-cufft-cu11==10.9.0.58 in /home/caroline/.pyenv/versions/3.11.3/lib/python3.11/site-packages (from torch>=1.13->opacus) (10.9.0.58)\n",
      "Requirement already satisfied: nvidia-curand-cu11==10.2.10.91 in /home/caroline/.pyenv/versions/3.11.3/lib/python3.11/site-packages (from torch>=1.13->opacus) (10.2.10.91)\n",
      "Requirement already satisfied: nvidia-cusolver-cu11==11.4.0.1 in /home/caroline/.pyenv/versions/3.11.3/lib/python3.11/site-packages (from torch>=1.13->opacus) (11.4.0.1)\n",
      "Requirement already satisfied: nvidia-cusparse-cu11==11.7.4.91 in /home/caroline/.pyenv/versions/3.11.3/lib/python3.11/site-packages (from torch>=1.13->opacus) (11.7.4.91)\n",
      "Requirement already satisfied: nvidia-nccl-cu11==2.14.3 in /home/caroline/.pyenv/versions/3.11.3/lib/python3.11/site-packages (from torch>=1.13->opacus) (2.14.3)\n",
      "Requirement already satisfied: nvidia-nvtx-cu11==11.7.91 in /home/caroline/.pyenv/versions/3.11.3/lib/python3.11/site-packages (from torch>=1.13->opacus) (11.7.91)\n",
      "Requirement already satisfied: triton==2.0.0 in /home/caroline/.pyenv/versions/3.11.3/lib/python3.11/site-packages (from torch>=1.13->opacus) (2.0.0)\n",
      "Requirement already satisfied: setuptools in /home/caroline/.pyenv/versions/3.11.3/lib/python3.11/site-packages (from nvidia-cublas-cu11==11.10.3.66->torch>=1.13->opacus) (65.5.0)\n",
      "Requirement already satisfied: wheel in /home/caroline/.pyenv/versions/3.11.3/lib/python3.11/site-packages (from nvidia-cublas-cu11==11.10.3.66->torch>=1.13->opacus) (0.40.0)\n",
      "Requirement already satisfied: cmake in /home/caroline/.pyenv/versions/3.11.3/lib/python3.11/site-packages (from triton==2.0.0->torch>=1.13->opacus) (3.26.1)\n",
      "Requirement already satisfied: lit in /home/caroline/.pyenv/versions/3.11.3/lib/python3.11/site-packages (from triton==2.0.0->torch>=1.13->opacus) (16.0.0)\n",
      "Requirement already satisfied: MarkupSafe>=2.0 in /home/caroline/.pyenv/versions/3.11.3/lib/python3.11/site-packages (from jinja2->torch>=1.13->opacus) (2.1.2)\n",
      "Requirement already satisfied: mpmath>=0.19 in /home/caroline/.pyenv/versions/3.11.3/lib/python3.11/site-packages (from sympy->torch>=1.13->opacus) (1.3.0)\n",
      "Installing collected packages: opt-einsum, opacus\n",
      "Successfully installed opacus-1.4.0 opt-einsum-3.3.0\n",
      "Note: you may need to restart the kernel to use updated packages.\n"
     ]
    }
   ],
   "source": [
    "pip install opacus"
   ]
  },
  {
   "cell_type": "code",
   "execution_count": 3,
   "id": "09169518-3037-4846-aec0-4d00d620f5ca",
   "metadata": {
    "tags": []
   },
   "outputs": [
    {
     "ename": "ModuleNotFoundError",
     "evalue": "No module named 'opacus'",
     "output_type": "error",
     "traceback": [
      "\u001b[0;31m---------------------------------------------------------------------------\u001b[0m",
      "\u001b[0;31mModuleNotFoundError\u001b[0m                       Traceback (most recent call last)",
      "Cell \u001b[0;32mIn[3], line 2\u001b[0m\n\u001b[1;32m      1\u001b[0m \u001b[38;5;28;01mimport\u001b[39;00m \u001b[38;5;21;01mnumpy\u001b[39;00m \u001b[38;5;28;01mas\u001b[39;00m \u001b[38;5;21;01mnp\u001b[39;00m\n\u001b[0;32m----> 2\u001b[0m \u001b[38;5;28;01mfrom\u001b[39;00m \u001b[38;5;21;01mopacus\u001b[39;00m \u001b[38;5;28;01mimport\u001b[39;00m PrivacyEngine\n\u001b[1;32m      3\u001b[0m \u001b[38;5;28;01mfrom\u001b[39;00m \u001b[38;5;21;01mtqdm\u001b[39;00m \u001b[38;5;28;01mimport\u001b[39;00m tqdm\n",
      "\u001b[0;31mModuleNotFoundError\u001b[0m: No module named 'opacus'"
     ]
    }
   ],
   "source": [
    "import numpy as np\n",
    "\n",
    "\n",
    "from opacus import PrivacyEngine\n",
    "from tqdm import tqdm"
   ]
  },
  {
   "cell_type": "markdown",
   "id": "1066bfbd-6797-4320-90ad-5ba36a45bdb2",
   "metadata": {},
   "source": [
    "Fetch the data"
   ]
  },
  {
   "cell_type": "code",
   "execution_count": null,
   "id": "47b735e2-8170-4db4-b647-49e050bbb130",
   "metadata": {},
   "outputs": [],
   "source": [
    "url1 = 'https://raw.githubusercontent.com/OpenMined/PyDP/dev/examples/Tutorial_4-Launch_demo/data/01.csv'\n",
    "df1 = pd.read_csv(url1,sep=\",\", engine = \"python\")\n",
    "print(df1.head())"
   ]
  }
 ],
 "metadata": {
  "kernelspec": {
   "display_name": "Python 3 (ipykernel)",
   "language": "python",
   "name": "python3"
  },
  "language_info": {
   "codemirror_mode": {
    "name": "ipython",
    "version": 3
   },
   "file_extension": ".py",
   "mimetype": "text/x-python",
   "name": "python",
   "nbconvert_exporter": "python",
   "pygments_lexer": "ipython3",
   "version": "3.11.3"
  }
 },
 "nbformat": 4,
 "nbformat_minor": 5
}
